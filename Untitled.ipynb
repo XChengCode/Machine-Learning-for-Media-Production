{
 "cells": [
  {
   "cell_type": "code",
   "execution_count": 1,
   "id": "c367464d",
   "metadata": {},
   "outputs": [
    {
     "name": "stdout",
     "output_type": "stream",
     "text": [
      "Dimensions of the last convolutional feature map:  torch.Size([1, 512, 7, 7])\n",
      "torch.Size([1, 3])Output feature size.\n"
     ]
    }
   ],
   "source": [
    "%%bash\n",
    "python3.9 Resnet18_pytorch.py"
   ]
  },
  {
   "cell_type": "code",
   "execution_count": null,
   "id": "63807100",
   "metadata": {},
   "outputs": [],
   "source": []
  }
 ],
 "metadata": {
  "kernelspec": {
   "display_name": "Python 3 (ipykernel)",
   "language": "python",
   "name": "python3"
  },
  "language_info": {
   "codemirror_mode": {
    "name": "ipython",
    "version": 3
   },
   "file_extension": ".py",
   "mimetype": "text/x-python",
   "name": "python",
   "nbconvert_exporter": "python",
   "pygments_lexer": "ipython3",
   "version": "3.9.12"
  }
 },
 "nbformat": 4,
 "nbformat_minor": 5
}
